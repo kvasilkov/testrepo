{
 "cells": [
  {
   "cell_type": "code",
   "execution_count": 9,
   "metadata": {},
   "outputs": [
    {
     "name": "stdout",
     "output_type": "stream",
     "text": [
      "Hello\n",
      "loHel\n"
     ]
    }
   ],
   "source": [
    "#2.1.1\n",
    "st1 = input()\n",
    "a = int(len(st1) / 2)\n",
    "st2 = st1[0:a+1]\n",
    "st3 = st1[a+1:]\n",
    "st1 = st3 + st2\n",
    "print(st1)\n"
   ]
  },
  {
   "cell_type": "code",
   "execution_count": 17,
   "metadata": {},
   "outputs": [
    {
     "name": "stdout",
     "output_type": "stream",
     "text": [
      "one+one=2\n"
     ]
    }
   ],
   "source": [
    "#2.1.2\n",
    "st = \"1+1=2\"\n",
    "st4 = \"\"\n",
    "for i in st1:\n",
    "    if i == \"1\":\n",
    "        i = \"one\"\n",
    "    st4 += i\n",
    "print(st4)\n"
   ]
  },
  {
   "cell_type": "code",
   "execution_count": 21,
   "metadata": {},
   "outputs": [
    {
     "name": "stdout",
     "output_type": "stream",
     "text": [
      "python\n",
      "p*y*t*h*o*n\n"
     ]
    }
   ],
   "source": [
    "#2.1.a\n",
    "a = input()\n",
    "b = \"\"\n",
    "for i in a:\n",
    "    b += i + \"*\"\n",
    "b = b[0:len(b)-1]\n",
    "print(b)"
   ]
  },
  {
   "cell_type": "code",
   "execution_count": 41,
   "metadata": {
    "scrolled": true
   },
   "outputs": [
    {
     "name": "stdout",
     "output_type": "stream",
     "text": [
      "6\n",
      "(1, 2, 3, 4, 5, 6)\n"
     ]
    }
   ],
   "source": [
    "#2.2.1\n",
    "n = int(input())\n",
    "a = tuple(i for i in range(1, n+1))\n",
    "print(a)"
   ]
  },
  {
   "cell_type": "code",
   "execution_count": 63,
   "metadata": {},
   "outputs": [
    {
     "name": "stdout",
     "output_type": "stream",
     "text": [
      "123456\n",
      "All numbers in a tuple are in ascending order:  True\n"
     ]
    }
   ],
   "source": [
    "#2.2.2\n",
    "n = input()\n",
    "a = tuple(i for i in n)\n",
    "c = 0\n",
    "b = False\n",
    "for i in a:\n",
    "    i = int(i)\n",
    "    if i >= c:\n",
    "        b = True\n",
    "    else:\n",
    "        b = False\n",
    "        break\n",
    "    c = int(i)\n",
    "print(\"All numbers in a tuple are in ascending order: \", b)"
   ]
  },
  {
   "cell_type": "code",
   "execution_count": 65,
   "metadata": {},
   "outputs": [
    {
     "name": "stdout",
     "output_type": "stream",
     "text": [
      "1\n",
      "2\n",
      "3\n",
      "4\n",
      "0\n",
      "[2, 4]\n"
     ]
    }
   ],
   "source": [
    "#2.3.1\n",
    "l = []\n",
    "n = 1\n",
    "while n != 0:\n",
    "    n = int(input())\n",
    "    l.append(n)\n",
    "v = l[1::2]\n",
    "print(v)"
   ]
  },
  {
   "cell_type": "code",
   "execution_count": 1,
   "metadata": {},
   "outputs": [
    {
     "name": "stdout",
     "output_type": "stream",
     "text": [
      "kl;ajfs asfkj iqoweru a'sf\n",
      "['kl;ajfs', 'asfkj', 'iqoweru', \"a'sf\"]\n"
     ]
    }
   ],
   "source": [
    "#2.3.2\n",
    "l = input().split()\n",
    "l = l[1::2]\n",
    "print(l)"
   ]
  },
  {
   "cell_type": "code",
   "execution_count": 18,
   "metadata": {},
   "outputs": [
    {
     "name": "stdout",
     "output_type": "stream",
     "text": [
      "2 1 2 3 4 2 4\n",
      "['2', '1', '2', '3', '4', '2', '4']\n",
      "2\n",
      "[0, 2, 5]\n"
     ]
    }
   ],
   "source": [
    "#2.4.1\n",
    "l = input().split()\n",
    "n = input()\n",
    "p = []\n",
    "i = 0\n",
    "for a in l:\n",
    "    if a == n:\n",
    "        p.append(i)\n",
    "    i += 1\n",
    "print(p)"
   ]
  },
  {
   "cell_type": "code",
   "execution_count": 30,
   "metadata": {
    "scrolled": true
   },
   "outputs": [
    {
     "name": "stdout",
     "output_type": "stream",
     "text": [
      "1 2 3 4 5 6 7 8 9 0 0\n",
      "['2', '1', '4', '3', '6', '5', '8', '7', '0', '9', '0']\n"
     ]
    }
   ],
   "source": [
    "#2.4.2\n",
    "l = input().split()\n",
    "k = 0\n",
    "while k < len(l)-1:\n",
    "    p = l[k]\n",
    "    l[k] = l[k+1]\n",
    "    l[k+1] = p\n",
    "    k += 2\n",
    "print(l)"
   ]
  },
  {
   "cell_type": "code",
   "execution_count": 35,
   "metadata": {},
   "outputs": [
    {
     "name": "stdout",
     "output_type": "stream",
     "text": [
      "1 2 3 4 5\n",
      "['5', '1', '2', '3', '4']\n"
     ]
    }
   ],
   "source": [
    "#2.4.3\n",
    "l = input().split()\n",
    "k = 0\n",
    "while k < len(l) - 1:\n",
    "    n = l.pop(0)\n",
    "    l.append(n)\n",
    "    k += 1\n",
    "print(l)"
   ]
  },
  {
   "cell_type": "code",
   "execution_count": 45,
   "metadata": {},
   "outputs": [
    {
     "name": "stdout",
     "output_type": "stream",
     "text": [
      "123 123 123 1234\n",
      "{'123', '1234'}\n",
      "2\n"
     ]
    }
   ],
   "source": [
    "#2.5.1\n",
    "l = set(input().split())\n",
    "print(len(l))"
   ]
  },
  {
   "cell_type": "code",
   "execution_count": 58,
   "metadata": {},
   "outputs": [
    {
     "name": "stdout",
     "output_type": "stream",
     "text": [
      "12 3 1234 1324  52345 123 1234 \n",
      "123 1 2 3 4 5 6 1234 234 234 12 \n",
      "['12', '123', '1234', '3']\n"
     ]
    }
   ],
   "source": [
    "#2.5.2\n",
    "a = set(input().split())\n",
    "b = set(input().split())\n",
    "a.intersection_update(b)\n",
    "c = list(a)\n",
    "c.sort()\n",
    "print(c)\n"
   ]
  },
  {
   "cell_type": "code",
   "execution_count": 67,
   "metadata": {},
   "outputs": [
    {
     "name": "stdout",
     "output_type": "stream",
     "text": [
      "123 2134 2345 1234 1 2 3 4 5\n",
      "{'2134', '1', '3', '5', '2345', '2', '123', '1234', '4'}\n",
      "41234 1234 234 2134 1 2 3 4 5\n",
      "{'234', '1', '1234', '3', '5', '2', '2134', '4', '41234'}\n",
      "{'234', '2345', '123', '41234'}\n",
      "['234', '2345', '123', '41234']\n",
      "['123', '234', '2345', '41234']\n"
     ]
    }
   ],
   "source": [
    "#2.5.3\n",
    "a = set(input().split())\n",
    "b = set(input().split())\n",
    "a.symmetric_difference_update(b)\n",
    "c = list(a)\n",
    "c.sort()\n",
    "print(c)"
   ]
  },
  {
   "cell_type": "code",
   "execution_count": 74,
   "metadata": {},
   "outputs": [
    {
     "name": "stdout",
     "output_type": "stream",
     "text": [
      "1 2 3 4 5 1 4 6 7 2 2 4 5\n",
      "1  NO\n",
      "2  NO\n",
      "3  NO\n",
      "4  NO\n",
      "5  NO\n",
      "1  YES\n",
      "4  YES\n",
      "6  NO\n",
      "7  NO\n",
      "2  YES\n",
      "2  YES\n",
      "4  YES\n",
      "5  YES\n"
     ]
    }
   ],
   "source": [
    "#2.5.4\n",
    "a = input().split()\n",
    "b = set(a)\n",
    "for i in a:\n",
    "    if i in b:\n",
    "        b.discard(i)\n",
    "        print(i,\" NO\")\n",
    "    else:\n",
    "        print(i, \" YES\")\n"
   ]
  },
  {
   "cell_type": "code",
   "execution_count": 2,
   "metadata": {},
   "outputs": [
    {
     "name": "stdout",
     "output_type": "stream",
     "text": [
      "мама мыла раму мама мыла папу\n",
      "мама 2\n",
      "папу 1\n",
      "раму 1\n",
      "мыла 2\n"
     ]
    }
   ],
   "source": [
    "#2.6.1\n",
    "a = input().split()\n",
    "b = set(a)\n",
    "for i in b:\n",
    "    print(i, end=\" \")\n",
    "    print(a.count(i))"
   ]
  },
  {
   "cell_type": "code",
   "execution_count": 26,
   "metadata": {},
   "outputs": [
    {
     "name": "stdout",
     "output_type": "stream",
     "text": [
      "2\n",
      "мама мыла раму абрикосом\n",
      "мама мыла папу абрикосом\n",
      "абрикосом\n"
     ]
    }
   ],
   "source": [
    "#2.6.2\n",
    "a = int(input())\n",
    "c = dict()\n",
    "l = []\n",
    "s = set()\n",
    "while a > 0:\n",
    "    b = input().split()\n",
    "    a -= 1\n",
    "    for k in b:\n",
    "        l.append(k)\n",
    "    s.update(b)\n",
    "for i in s:\n",
    "    c [i] = l.count(i)\n",
    "mx = 0\n",
    "final = []\n",
    "for key in c:\n",
    "    if c[key] > mx:\n",
    "        mx = c[key]\n",
    "for key in c:\n",
    "    if mx == c[key]:\n",
    "        final.append(key)\n",
    "final.sort()\n",
    "print(final[0])"
   ]
  },
  {
   "cell_type": "code",
   "execution_count": null,
   "metadata": {},
   "outputs": [],
   "source": []
  },
  {
   "cell_type": "code",
   "execution_count": null,
   "metadata": {},
   "outputs": [],
   "source": []
  }
 ],
 "metadata": {
  "kernelspec": {
   "display_name": "Python 3",
   "language": "python",
   "name": "python3"
  },
  "language_info": {
   "codemirror_mode": {
    "name": "ipython",
    "version": 3
   },
   "file_extension": ".py",
   "mimetype": "text/x-python",
   "name": "python",
   "nbconvert_exporter": "python",
   "pygments_lexer": "ipython3",
   "version": "3.8.3"
  }
 },
 "nbformat": 4,
 "nbformat_minor": 4
}
